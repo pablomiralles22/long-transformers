{
 "cells": [
  {
   "cell_type": "code",
   "execution_count": 1,
   "metadata": {},
   "outputs": [
    {
     "name": "stdout",
     "output_type": "stream",
     "text": [
      "/home/pablo/long-transformers\n"
     ]
    }
   ],
   "source": [
    "%cd .."
   ]
  },
  {
   "cell_type": "code",
   "execution_count": 2,
   "metadata": {},
   "outputs": [],
   "source": [
    "# add the project root to the python path\n",
    "import sys\n",
    "sys.path.append('.')"
   ]
  },
  {
   "cell_type": "code",
   "execution_count": 3,
   "metadata": {},
   "outputs": [],
   "source": [
    "import pandas as pd\n",
    "import seaborn as sns"
   ]
  },
  {
   "cell_type": "markdown",
   "metadata": {},
   "source": [
    "## Listops"
   ]
  },
  {
   "cell_type": "code",
   "execution_count": 16,
   "metadata": {},
   "outputs": [],
   "source": [
    "df = pd.read_csv(\"datasets/lra_release/listops-1000/basic_train.tsv\", sep=\"\\t\")"
   ]
  },
  {
   "cell_type": "code",
   "execution_count": 17,
   "metadata": {},
   "outputs": [
    {
     "data": {
      "text/html": [
       "<div>\n",
       "<style scoped>\n",
       "    .dataframe tbody tr th:only-of-type {\n",
       "        vertical-align: middle;\n",
       "    }\n",
       "\n",
       "    .dataframe tbody tr th {\n",
       "        vertical-align: top;\n",
       "    }\n",
       "\n",
       "    .dataframe thead th {\n",
       "        text-align: right;\n",
       "    }\n",
       "</style>\n",
       "<table border=\"1\" class=\"dataframe\">\n",
       "  <thead>\n",
       "    <tr style=\"text-align: right;\">\n",
       "      <th></th>\n",
       "      <th>Source</th>\n",
       "      <th>Target</th>\n",
       "    </tr>\n",
       "  </thead>\n",
       "  <tbody>\n",
       "    <tr>\n",
       "      <th>0</th>\n",
       "      <td>( ( ( ( ( ( ( ( ( ( [MIN 1 ) ( ( ( ( ( ( ( ( [...</td>\n",
       "      <td>1</td>\n",
       "    </tr>\n",
       "    <tr>\n",
       "      <th>1</th>\n",
       "      <td>( ( ( ( ( ( ( ( ( ( [MAX 1 ) 8 ) 3 ) 0 ) 0 ) 9...</td>\n",
       "      <td>9</td>\n",
       "    </tr>\n",
       "    <tr>\n",
       "      <th>2</th>\n",
       "      <td>( ( ( ( ( [SM 2 ) ( ( ( ( ( ( ( [MED 6 ) ( ( (...</td>\n",
       "      <td>4</td>\n",
       "    </tr>\n",
       "    <tr>\n",
       "      <th>3</th>\n",
       "      <td>( ( ( ( ( ( ( ( ( ( ( [MED 9 ) 1 ) 2 ) 1 ) 8 )...</td>\n",
       "      <td>3</td>\n",
       "    </tr>\n",
       "    <tr>\n",
       "      <th>4</th>\n",
       "      <td>( ( ( ( ( [MIN ( ( ( ( ( ( [MIN 3 ) ( ( ( [SM ...</td>\n",
       "      <td>0</td>\n",
       "    </tr>\n",
       "    <tr>\n",
       "      <th>...</th>\n",
       "      <td>...</td>\n",
       "      <td>...</td>\n",
       "    </tr>\n",
       "    <tr>\n",
       "      <th>95995</th>\n",
       "      <td>( ( ( ( ( ( ( ( ( [SM ( ( ( ( [MED 5 ) ( ( ( (...</td>\n",
       "      <td>6</td>\n",
       "    </tr>\n",
       "    <tr>\n",
       "      <th>95996</th>\n",
       "      <td>( ( ( ( ( ( ( ( ( ( [MIN 5 ) 9 ) 0 ) ( ( ( ( (...</td>\n",
       "      <td>0</td>\n",
       "    </tr>\n",
       "    <tr>\n",
       "      <th>95997</th>\n",
       "      <td>( ( ( ( ( ( ( [MED 8 ) ( ( ( ( ( ( ( ( [MAX 7 ...</td>\n",
       "      <td>6</td>\n",
       "    </tr>\n",
       "    <tr>\n",
       "      <th>95998</th>\n",
       "      <td>( ( ( ( ( ( ( ( ( [MED 6 ) ( ( ( ( ( ( ( ( ( (...</td>\n",
       "      <td>4</td>\n",
       "    </tr>\n",
       "    <tr>\n",
       "      <th>95999</th>\n",
       "      <td>( ( ( ( ( ( [SM ( ( ( ( ( ( ( ( ( ( [MED 7 ) (...</td>\n",
       "      <td>9</td>\n",
       "    </tr>\n",
       "  </tbody>\n",
       "</table>\n",
       "<p>96000 rows × 2 columns</p>\n",
       "</div>"
      ],
      "text/plain": [
       "                                                  Source  Target\n",
       "0      ( ( ( ( ( ( ( ( ( ( [MIN 1 ) ( ( ( ( ( ( ( ( [...       1\n",
       "1      ( ( ( ( ( ( ( ( ( ( [MAX 1 ) 8 ) 3 ) 0 ) 0 ) 9...       9\n",
       "2      ( ( ( ( ( [SM 2 ) ( ( ( ( ( ( ( [MED 6 ) ( ( (...       4\n",
       "3      ( ( ( ( ( ( ( ( ( ( ( [MED 9 ) 1 ) 2 ) 1 ) 8 )...       3\n",
       "4      ( ( ( ( ( [MIN ( ( ( ( ( ( [MIN 3 ) ( ( ( [SM ...       0\n",
       "...                                                  ...     ...\n",
       "95995  ( ( ( ( ( ( ( ( ( [SM ( ( ( ( [MED 5 ) ( ( ( (...       6\n",
       "95996  ( ( ( ( ( ( ( ( ( ( [MIN 5 ) 9 ) 0 ) ( ( ( ( (...       0\n",
       "95997  ( ( ( ( ( ( ( [MED 8 ) ( ( ( ( ( ( ( ( [MAX 7 ...       6\n",
       "95998  ( ( ( ( ( ( ( ( ( [MED 6 ) ( ( ( ( ( ( ( ( ( (...       4\n",
       "95999  ( ( ( ( ( ( [SM ( ( ( ( ( ( ( ( ( ( [MED 7 ) (...       9\n",
       "\n",
       "[96000 rows x 2 columns]"
      ]
     },
     "execution_count": 17,
     "metadata": {},
     "output_type": "execute_result"
    }
   ],
   "source": [
    "df"
   ]
  },
  {
   "cell_type": "code",
   "execution_count": 18,
   "metadata": {},
   "outputs": [
    {
     "data": {
      "text/plain": [
       "96000"
      ]
     },
     "execution_count": 18,
     "metadata": {},
     "output_type": "execute_result"
    }
   ],
   "source": [
    "len(df)"
   ]
  },
  {
   "cell_type": "code",
   "execution_count": 19,
   "metadata": {},
   "outputs": [
    {
     "name": "stdout",
     "output_type": "stream",
     "text": [
      "74096\n"
     ]
    }
   ],
   "source": [
    "lengths = []\n",
    "tokens = set()\n",
    "cnt = 0\n",
    "for txt in df[\"Source\"]:\n",
    "    new_tokens = txt.split()\n",
    "    tokens.update(new_tokens)\n",
    "    l = len(new_tokens)\n",
    "    lengths.append(l)\n",
    "    if l > 2048:\n",
    "        cnt += 1\n",
    "print(cnt)"
   ]
  },
  {
   "cell_type": "code",
   "execution_count": 20,
   "metadata": {},
   "outputs": [
    {
     "data": {
      "text/plain": [
       "<Axes: ylabel='Density'>"
      ]
     },
     "execution_count": 20,
     "metadata": {},
     "output_type": "execute_result"
    },
    {
     "data": {
      "image/png": "[encoded data removed]",
      "text/plain": [
       "<Figure size 640x480 with 1 Axes>"
      ]
     },
     "metadata": {},
     "output_type": "display_data"
    }
   ],
   "source": [
    "sns.kdeplot(lengths)"
   ]
  },
  {
   "cell_type": "code",
   "execution_count": 15,
   "metadata": {},
   "outputs": [
    {
     "data": {
      "text/plain": [
       "17"
      ]
     },
     "execution_count": 15,
     "metadata": {},
     "output_type": "execute_result"
    }
   ],
   "source": [
    "len(tokens)"
   ]
  },
  {
   "cell_type": "code",
   "execution_count": null,
   "metadata": {},
   "outputs": [],
   "source": []
  },
  {
   "cell_type": "markdown",
   "metadata": {},
   "source": [
    "## Text classification"
   ]
  },
  {
   "cell_type": "code",
   "execution_count": 4,
   "metadata": {},
   "outputs": [
    {
     "name": "stderr",
     "output_type": "stream",
     "text": [
      "/home/pablo/.micromamba/envs/long-transformers/lib/python3.10/site-packages/tqdm/auto.py:21: TqdmWarning: IProgress not found. Please update jupyter and ipywidgets. See https://ipywidgets.readthedocs.io/en/stable/user_install.html\n",
      "  from .autonotebook import tqdm as notebook_tqdm\n"
     ]
    }
   ],
   "source": [
    "from src.data_loaders.text_classification import TextClassificationDataset"
   ]
  },
  {
   "cell_type": "code",
   "execution_count": 5,
   "metadata": {},
   "outputs": [],
   "source": [
    "ds = TextClassificationDataset(\"datasets/aclImdb\", \"train\")"
   ]
  },
  {
   "cell_type": "code",
   "execution_count": 15,
   "metadata": {},
   "outputs": [],
   "source": [
    "sizes = []\n",
    "cnt = 0\n",
    "for idx in range(len(ds)):\n",
    "    l = len(ds[idx][\"text\"])\n",
    "    sizes.append(l)\n",
    "    if l > 3000:\n",
    "        cnt += 1\n"
   ]
  },
  {
   "cell_type": "code",
   "execution_count": 16,
   "metadata": {},
   "outputs": [
    {
     "data": {
      "text/plain": [
       "<Axes: ylabel='Density'>"
      ]
     },
     "execution_count": 16,
     "metadata": {},
     "output_type": "execute_result"
    },
    {
     "data": {
      "image/png": "[encoded data removed]",
      "text/plain": [
       "<Figure size 640x480 with 1 Axes>"
      ]
     },
     "metadata": {},
     "output_type": "display_data"
    }
   ],
   "source": [
    "sns.kdeplot(sizes)"
   ]
  },
  {
   "cell_type": "code",
   "execution_count": 17,
   "metadata": {},
   "outputs": [
    {
     "data": {
      "text/plain": [
       "1813"
      ]
     },
     "execution_count": 17,
     "metadata": {},
     "output_type": "execute_result"
    }
   ],
   "source": [
    "cnt"
   ]
  },
  {
   "cell_type": "code",
   "execution_count": 14,
   "metadata": {},
   "outputs": [
    {
     "data": {
      "text/plain": [
       "25000"
      ]
     },
     "execution_count": 14,
     "metadata": {},
     "output_type": "execute_result"
    }
   ],
   "source": [
    "len(ds)"
   ]
  },
  {
   "cell_type": "code",
   "execution_count": null,
   "metadata": {},
   "outputs": [],
   "source": []
  }
 ],
 "metadata": {
  "kernelspec": {
   "display_name": "Python 3",
   "language": "python",
   "name": "python3"
  },
  "language_info": {
   "codemirror_mode": {
    "name": "ipython",
    "version": 3
   },
   "file_extension": ".py",
   "mimetype": "text/x-python",
   "name": "python",
   "nbconvert_exporter": "python",
   "pygments_lexer": "ipython3",
   "version": "3.10.0"
  }
 },
 "nbformat": 4,
 "nbformat_minor": 2
}
