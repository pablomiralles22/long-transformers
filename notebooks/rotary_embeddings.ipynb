{
 "cells": [
  {
   "cell_type": "code",
   "execution_count": 7,
   "metadata": {},
   "outputs": [],
   "source": [
    "import torch\n",
    "import torch.nn as nn\n",
    "import torch.nn.functional as F\n",
    "import math"
   ]
  },
  {
   "cell_type": "code",
   "execution_count": 3,
   "metadata": {},
   "outputs": [],
   "source": [
    "BATCH = 32\n",
    "EMBED_DIM = 128\n",
    "SEQ_LEN = 256"
   ]
  },
  {
   "cell_type": "code",
   "execution_count": 4,
   "metadata": {},
   "outputs": [],
   "source": [
    "X = torch.rand(BATCH, SEQ_LEN, EMBED_DIM)"
   ]
  },
  {
   "cell_type": "code",
   "execution_count": 10,
   "metadata": {},
   "outputs": [],
   "source": [
    "lengths = torch.arange(0, SEQ_LEN, requires_grad=False)\n",
    "thetas_inds = torch.arange(0, EMBED_DIM // 2, requires_grad=False)\n",
    "thetas = torch.exp(-2 * math.log(10000) * (thetas_inds // 2) / EMBED_DIM)"
   ]
  },
  {
   "cell_type": "code",
   "execution_count": 15,
   "metadata": {},
   "outputs": [],
   "source": [
    "prod = torch.einsum(\"a , b -> ab\", lengths, thetas)\n",
    "cosines = torch.cos(prod)\n",
    "sines = torch.sin(prod)"
   ]
  },
  {
   "cell_type": "code",
   "execution_count": 25,
   "metadata": {},
   "outputs": [],
   "source": [
    "mat = torch.stack([cosines, -sines, sines, cosines], dim=-1).view(SEQ_LEN, EMBED_DIM // 2, 2, 2)"
   ]
  },
  {
   "cell_type": "code",
   "execution_count": 26,
   "metadata": {},
   "outputs": [],
   "source": [
    "X_reshaped = X.view(BATCH, SEQ_LEN, EMBED_DIM // 2, 1, 2)"
   ]
  },
  {
   "cell_type": "code",
   "execution_count": 30,
   "metadata": {},
   "outputs": [],
   "source": [
    "out = (X_reshaped * mat).sum(dim=-1).view(BATCH, SEQ_LEN, EMBED_DIM)"
   ]
  },
  {
   "cell_type": "code",
   "execution_count": 31,
   "metadata": {},
   "outputs": [
    {
     "data": {
      "text/plain": [
       "torch.Size([32, 256, 128])"
      ]
     },
     "execution_count": 31,
     "metadata": {},
     "output_type": "execute_result"
    }
   ],
   "source": [
    "out.shape"
   ]
  },
  {
   "cell_type": "code",
   "execution_count": 6,
   "metadata": {},
   "outputs": [
    {
     "data": {
      "text/plain": [
       "array([[1.00000000e+00, 9.04837418e-01, 6.70320046e-01, 4.06569660e-01,\n",
       "        2.01896518e-01, 8.20849986e-02, 2.73237224e-02, 7.44658307e-03,\n",
       "        1.66155727e-03, 3.03539138e-04],\n",
       "       [9.04837418e-01, 1.00000000e+00, 9.04837418e-01, 6.70320046e-01,\n",
       "        4.06569660e-01, 2.01896518e-01, 8.20849986e-02, 2.73237224e-02,\n",
       "        7.44658307e-03, 1.66155727e-03],\n",
       "       [6.70320046e-01, 9.04837418e-01, 1.00000000e+00, 9.04837418e-01,\n",
       "        6.70320046e-01, 4.06569660e-01, 2.01896518e-01, 8.20849986e-02,\n",
       "        2.73237224e-02, 7.44658307e-03],\n",
       "       [4.06569660e-01, 6.70320046e-01, 9.04837418e-01, 1.00000000e+00,\n",
       "        9.04837418e-01, 6.70320046e-01, 4.06569660e-01, 2.01896518e-01,\n",
       "        8.20849986e-02, 2.73237224e-02],\n",
       "       [2.01896518e-01, 4.06569660e-01, 6.70320046e-01, 9.04837418e-01,\n",
       "        1.00000000e+00, 9.04837418e-01, 6.70320046e-01, 4.06569660e-01,\n",
       "        2.01896518e-01, 8.20849986e-02],\n",
       "       [8.20849986e-02, 2.01896518e-01, 4.06569660e-01, 6.70320046e-01,\n",
       "        9.04837418e-01, 1.00000000e+00, 9.04837418e-01, 6.70320046e-01,\n",
       "        4.06569660e-01, 2.01896518e-01],\n",
       "       [2.73237224e-02, 8.20849986e-02, 2.01896518e-01, 4.06569660e-01,\n",
       "        6.70320046e-01, 9.04837418e-01, 1.00000000e+00, 9.04837418e-01,\n",
       "        6.70320046e-01, 4.06569660e-01],\n",
       "       [7.44658307e-03, 2.73237224e-02, 8.20849986e-02, 2.01896518e-01,\n",
       "        4.06569660e-01, 6.70320046e-01, 9.04837418e-01, 1.00000000e+00,\n",
       "        9.04837418e-01, 6.70320046e-01],\n",
       "       [1.66155727e-03, 7.44658307e-03, 2.73237224e-02, 8.20849986e-02,\n",
       "        2.01896518e-01, 4.06569660e-01, 6.70320046e-01, 9.04837418e-01,\n",
       "        1.00000000e+00, 9.04837418e-01],\n",
       "       [3.03539138e-04, 1.66155727e-03, 7.44658307e-03, 2.73237224e-02,\n",
       "        8.20849986e-02, 2.01896518e-01, 4.06569660e-01, 6.70320046e-01,\n",
       "        9.04837418e-01, 1.00000000e+00]])"
      ]
     },
     "execution_count": 6,
     "metadata": {},
     "output_type": "execute_result"
    }
   ],
   "source": [
    "import numpy as np\n",
    "lengths = np.arange(10)\n",
    "dif_mat = lengths.reshape(-1, 1) - lengths.reshape(1, -1)\n",
    "locality_matrix = np.exp(-dif_mat ** 2 / 10)\n",
    "locality_matrix"
   ]
  },
  {
   "cell_type": "code",
   "execution_count": null,
   "metadata": {},
   "outputs": [],
   "source": []
  }
 ],
 "metadata": {
  "kernelspec": {
   "display_name": "Python 3",
   "language": "python",
   "name": "python3"
  },
  "language_info": {
   "codemirror_mode": {
    "name": "ipython",
    "version": 3
   },
   "file_extension": ".py",
   "mimetype": "text/x-python",
   "name": "python",
   "nbconvert_exporter": "python",
   "pygments_lexer": "ipython3",
   "version": "3.10.0"
  }
 },
 "nbformat": 4,
 "nbformat_minor": 2
}
