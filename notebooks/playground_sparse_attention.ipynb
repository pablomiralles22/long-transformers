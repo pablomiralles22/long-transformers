{
 "cells": [
  {
   "cell_type": "code",
   "execution_count": 1,
   "metadata": {},
   "outputs": [],
   "source": [
    "import torch\n",
    "import torch.nn as nn\n",
    "import torch.nn.functional as F"
   ]
  },
  {
   "cell_type": "code",
   "execution_count": 51,
   "metadata": {},
   "outputs": [],
   "source": [
    "B = 8\n",
    "L = 2048\n",
    "D = 128\n",
    "\n",
    "ATT_WINDOW = 512"
   ]
  },
  {
   "cell_type": "code",
   "execution_count": 52,
   "metadata": {},
   "outputs": [],
   "source": [
    "Q = torch.randn(B, L, D)\n",
    "K = torch.randn(B, L, D)\n",
    "V = torch.randn(B, L, D)"
   ]
  },
  {
   "cell_type": "code",
   "execution_count": 60,
   "metadata": {},
   "outputs": [
    {
     "name": "stdout",
     "output_type": "stream",
     "text": [
      "tensor([[   0,    1,    2,  ...,  510,  511,  512],\n",
      "        [   0,    1,    2,  ...,  510,  511,  512],\n",
      "        [   0, 1536, 1537,  ..., 2045, 2046, 2047],\n",
      "        [   0, 1536, 1537,  ..., 2045, 2046, 2047]])\n",
      "torch.Size([2048, 513])\n"
     ]
    }
   ],
   "source": [
    "# local attention\n",
    "# 0, 1, 2, 3\n",
    "# 0, 1, 2, 3\n",
    "# 0, 2, 3, 4\n",
    "# 0, 3, 4, 5\n",
    "# ...\n",
    "offset_start = -ATT_WINDOW // 2 + 1\n",
    "offset_end = ATT_WINDOW // 2 + 1\n",
    "offsets = torch.arange(offset_start, offset_end).view(1, -1)\n",
    "\n",
    "min_idx = 1 - offset_start\n",
    "max_idx = L - offset_end\n",
    "start_idxs = torch.arange(0, L).clip(min_idx, max_idx).view(-1, 1)\n",
    "idxs = start_idxs + offsets\n",
    "\n",
    "# add 0 to the left\n",
    "idxs = torch.cat([torch.zeros_like(idxs[:, :1]), idxs], dim=1).long()\n",
    "\n",
    "print(idxs[[0, 1, -2, -1]])\n",
    "print(idxs.shape)"
   ]
  },
  {
   "cell_type": "code",
   "execution_count": 54,
   "metadata": {},
   "outputs": [
    {
     "name": "stdout",
     "output_type": "stream",
     "text": [
      "torch.Size([8, 2048, 512, 128])\n",
      "torch.Size([8, 2048, 512, 128])\n",
      "torch.Size([8, 2048, 128])\n",
      "torch.Size([8, 2048, 128])\n"
     ]
    }
   ],
   "source": [
    "# i-th token has to attend to tokens idxs[i]\n",
    "print(K[:, idxs, :].shape)  # [B, L, W, D]\n",
    "print(V[:, idxs, :].shape)  # [B, L, W, D]\n",
    "print(Q.shape) # [B, L, D]\n",
    "\n",
    "attention_scores = torch.einsum('b l w d , b l d -> b l w', K[:, idxs, :], Q) / (D ** 0.5)  # [B, L, W]\n",
    "attention_weights = F.softmax(attention_scores, dim=-1)  # [B, L, W]\n",
    "outputs = torch.einsum('b l w , b l w d -> b l d', attention_weights, V[:, idxs, :])  # [B, L, D]\n",
    "\n",
    "print(outputs.shape)"
   ]
  },
  {
   "cell_type": "code",
   "execution_count": 55,
   "metadata": {},
   "outputs": [
    {
     "data": {
      "text/plain": [
       "tensor([[[-5.2706e-01, -2.2102e-01,  1.8632e+00,  ..., -3.5318e-01,\n",
       "          -1.5379e+00, -5.8125e-01],\n",
       "         [ 4.7987e-01,  1.1657e+00, -6.7558e-01,  ...,  1.6880e+00,\n",
       "           1.4380e+00,  1.6206e-01],\n",
       "         [ 1.0809e+00,  1.1431e+00,  5.4405e-01,  ..., -5.2006e-01,\n",
       "          -4.1561e-01,  7.4239e-02],\n",
       "         ...,\n",
       "         [ 1.8549e+00,  6.6663e-01, -1.7309e+00,  ..., -5.3762e-01,\n",
       "           6.6817e-01,  1.5919e+00],\n",
       "         [ 3.5798e-01,  3.0497e-01,  4.1004e-03,  ..., -2.3174e-01,\n",
       "          -2.0589e-01,  3.4689e-01],\n",
       "         [ 1.5518e-01, -7.4561e-01,  1.1700e+00,  ..., -1.2351e+00,\n",
       "           1.9037e+00, -2.4481e-01]],\n",
       "\n",
       "        [[ 1.8422e-01,  1.0892e+00, -2.0175e-01,  ...,  9.9590e-01,\n",
       "          -5.2433e-01, -1.0689e+00],\n",
       "         [ 1.8433e+00,  2.1716e-01,  1.6302e+00,  ..., -7.1174e-01,\n",
       "          -1.7439e-01,  9.7945e-01],\n",
       "         [ 3.6468e-01, -3.7308e-01,  9.5988e-01,  ...,  1.4037e+00,\n",
       "          -3.8576e-01,  9.7395e-01],\n",
       "         ...,\n",
       "         [ 3.0268e-01,  1.3658e+00,  3.8376e-02,  ...,  1.0489e+00,\n",
       "          -6.8892e-01,  1.1337e+00],\n",
       "         [ 6.4335e-01, -1.2296e-01,  6.2785e-01,  ...,  7.6513e-01,\n",
       "          -1.4064e+00, -1.3460e+00],\n",
       "         [ 1.3937e+00, -7.9705e-01, -1.6112e+00,  ...,  3.8361e-01,\n",
       "          -7.1174e-01, -1.1511e+00]],\n",
       "\n",
       "        [[-9.7591e-01,  1.2022e+00, -2.2257e-01,  ...,  3.0508e-01,\n",
       "          -8.1788e-01, -5.4829e-01],\n",
       "         [ 1.1281e+00,  3.6396e-01, -2.1638e+00,  ..., -6.8580e-01,\n",
       "           7.3365e-01, -1.3767e+00],\n",
       "         [ 8.1014e-01,  3.1330e-01, -5.8963e-01,  ..., -1.2231e+00,\n",
       "          -1.2226e-03,  1.5716e-01],\n",
       "         ...,\n",
       "         [ 2.6762e+00,  1.1665e+00,  4.5760e-01,  ...,  1.7402e+00,\n",
       "          -4.2953e-01,  1.2633e+00],\n",
       "         [-6.1668e-01,  2.2897e+00,  6.4680e-01,  ..., -1.6903e-01,\n",
       "          -8.8471e-01,  1.1946e+00],\n",
       "         [ 1.0893e+00,  1.6645e-01,  3.7896e-01,  ...,  5.7905e-01,\n",
       "          -4.0463e-01,  1.0625e+00]],\n",
       "\n",
       "        ...,\n",
       "\n",
       "        [[ 1.4117e-01,  4.3151e-02,  7.0839e-01,  ...,  1.3698e+00,\n",
       "           7.8932e-01, -9.3087e-01],\n",
       "         [ 1.1468e-01, -8.5970e-01, -5.5902e-01,  ...,  9.2710e-01,\n",
       "          -4.0807e-01,  1.5231e+00],\n",
       "         [-4.0023e-01,  5.1770e-01, -9.5389e-01,  ...,  5.3052e-02,\n",
       "          -1.0963e+00, -2.7621e-01],\n",
       "         ...,\n",
       "         [ 5.2290e-01, -8.3603e-01, -7.2195e-01,  ..., -1.8003e+00,\n",
       "          -2.0652e+00, -1.5091e+00],\n",
       "         [-1.3610e+00, -5.2465e-01, -1.1093e+00,  ...,  1.1580e+00,\n",
       "           4.5513e-01, -1.4249e-01],\n",
       "         [ 1.8296e+00, -1.4976e+00,  1.0767e+00,  ...,  5.6658e-01,\n",
       "          -3.6727e-01,  3.0770e-01]],\n",
       "\n",
       "        [[-2.9382e-01,  1.1298e+00,  1.8564e+00,  ...,  1.9618e+00,\n",
       "          -9.4839e-01, -7.3297e-01],\n",
       "         [ 1.1855e+00, -6.5316e-01, -8.7013e-01,  ..., -1.0279e+00,\n",
       "           5.7939e-01, -7.6108e-01],\n",
       "         [ 1.0904e+00,  7.4597e-03, -1.8390e-01,  ...,  9.5340e-01,\n",
       "          -5.3679e-01, -6.7565e-01],\n",
       "         ...,\n",
       "         [ 8.9991e-02, -1.1496e+00,  1.7691e-02,  ...,  4.9957e-02,\n",
       "          -8.2143e-02,  9.4012e-02],\n",
       "         [ 2.7328e-01, -3.2932e-01, -1.5326e+00,  ...,  2.5575e-01,\n",
       "          -1.3334e-01,  5.9564e-01],\n",
       "         [-8.9415e-01, -2.7766e-01,  1.0735e-02,  ...,  5.1415e-01,\n",
       "          -3.9264e-01, -2.3564e-01]],\n",
       "\n",
       "        [[-8.3038e-01,  5.6986e-01, -5.7890e-01,  ...,  7.6145e-01,\n",
       "           1.4848e+00, -1.4996e+00],\n",
       "         [-3.6588e-02,  8.1709e-01,  1.0505e-01,  ...,  2.4810e+00,\n",
       "           6.9365e-02, -6.4887e-02],\n",
       "         [ 8.2554e-01, -2.1081e-01,  6.1358e-01,  ...,  3.4241e-03,\n",
       "           3.6462e-01,  7.0812e-01],\n",
       "         ...,\n",
       "         [-2.8614e+00,  1.8903e+00, -1.1857e+00,  ...,  1.1478e+00,\n",
       "           6.2526e-01, -2.0639e-01],\n",
       "         [-1.2755e-01,  4.1982e-01,  7.8831e-01,  ...,  1.8497e-01,\n",
       "           3.0961e+00,  1.3485e+00],\n",
       "         [ 5.6400e-01, -5.9081e-01, -2.1287e+00,  ..., -2.0432e-01,\n",
       "           8.1798e-01,  8.4098e-01]]])"
      ]
     },
     "execution_count": 55,
     "metadata": {},
     "output_type": "execute_result"
    }
   ],
   "source": [
    "attention_scores"
   ]
  },
  {
   "cell_type": "code",
   "execution_count": null,
   "metadata": {},
   "outputs": [],
   "source": []
  }
 ],
 "metadata": {
  "kernelspec": {
   "display_name": "Python 3",
   "language": "python",
   "name": "python3"
  },
  "language_info": {
   "codemirror_mode": {
    "name": "ipython",
    "version": 3
   },
   "file_extension": ".py",
   "mimetype": "text/x-python",
   "name": "python",
   "nbconvert_exporter": "python",
   "pygments_lexer": "ipython3",
   "version": "3.10.0"
  }
 },
 "nbformat": 4,
 "nbformat_minor": 2
}
