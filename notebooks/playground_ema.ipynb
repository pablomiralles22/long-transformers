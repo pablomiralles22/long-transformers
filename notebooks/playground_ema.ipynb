{
 "cells": [
  {
   "cell_type": "code",
   "execution_count": 1,
   "metadata": {},
   "outputs": [],
   "source": [
    "import torch\n",
    "import torch.nn as nn\n",
    "import torch.nn.functional as F"
   ]
  },
  {
   "cell_type": "code",
   "execution_count": 2,
   "metadata": {},
   "outputs": [],
   "source": [
    "kernel_size = 35\n",
    "D = 128\n",
    "E = 128 * 16\n",
    "L = 1024\n",
    "B = 2"
   ]
  },
  {
   "cell_type": "code",
   "execution_count": 3,
   "metadata": {},
   "outputs": [],
   "source": [
    "###### PARAMS ######\n",
    "logit_alpha = torch.randn(E)  # [E]\n",
    "logit_delta = torch.randn(E)  # [E]\n",
    "beta = torch.randn(D, E)      # [D, E]\n",
    "eta = torch.randn(E, D)       # [E, D]\n",
    "\n",
    "###### INPUT ######\n",
    "x = torch.randn(B, L, D)            # [B, L, D]"
   ]
  },
  {
   "cell_type": "code",
   "execution_count": 4,
   "metadata": {},
   "outputs": [],
   "source": [
    "alpha = F.sigmoid(logit_alpha.view(-1, 1, 1))      # [E, 1, 1]\n",
    "delta = F.sigmoid(logit_delta.view(-1, 1, 1))      # [E, 1, 1]\n",
    "\n",
    "p = alpha  # [E, 1, 1]\n",
    "q = 1. - alpha * delta  # [E, 1, 1]\n",
    "\n",
    "len_range = (\n",
    "    torch\n",
    "    .arange(\n",
    "        kernel_size-1, -1, -1,\n",
    "        dtype=logit_alpha.dtype,\n",
    "        device=logit_alpha.device\n",
    "    )\n",
    "    .view(1, 1, -1)\n",
    ")\n",
    "\n",
    "kernel = (p * torch.exp(torch.log(q) * len_range))  # [E, 1, kernel_size]"
   ]
  },
  {
   "cell_type": "code",
   "execution_count": 5,
   "metadata": {},
   "outputs": [
    {
     "data": {
      "text/plain": [
       "tensor([[[7.4075e-04, 8.9462e-04, 1.0805e-03,  ..., 3.1094e-01,\n",
       "          3.7553e-01, 4.5353e-01]],\n",
       "\n",
       "        [[7.4659e-15, 1.9191e-14, 4.9331e-14,  ..., 9.8551e-02,\n",
       "          2.5333e-01, 6.5117e-01]],\n",
       "\n",
       "        [[1.0649e-06, 1.5591e-06, 2.2825e-06,  ..., 2.1133e-01,\n",
       "          3.0939e-01, 4.5296e-01]],\n",
       "\n",
       "        ...,\n",
       "\n",
       "        [[1.2570e-09, 2.2824e-09, 4.1442e-09,  ..., 2.4491e-01,\n",
       "          4.4469e-01, 8.0744e-01]],\n",
       "\n",
       "        [[1.8443e-06, 2.6680e-06, 3.8594e-06,  ..., 2.4931e-01,\n",
       "          3.6064e-01, 5.2169e-01]],\n",
       "\n",
       "        [[1.0381e-02, 1.1475e-02, 1.2685e-02,  ..., 2.5646e-01,\n",
       "          2.8349e-01, 3.1337e-01]]])"
      ]
     },
     "execution_count": 5,
     "metadata": {},
     "output_type": "execute_result"
    }
   ],
   "source": [
    "kernel"
   ]
  },
  {
   "cell_type": "code",
   "execution_count": 6,
   "metadata": {},
   "outputs": [],
   "source": [
    "u = x @ beta  # [B, L, E]\n",
    "u_T = u.transpose(-1, -2)  # [B, E, L]\n",
    "out_T = F.conv1d(u_T, kernel, padding=kernel_size - 1, groups=E)  # [B, E, L+kernel_size-1]\n",
    "out = out_T[..., :L].transpose(-1, -2)  # [B, L, E]\n",
    "out_proj = out @ eta  # [B, L, D]"
   ]
  },
  {
   "cell_type": "code",
   "execution_count": 7,
   "metadata": {},
   "outputs": [
    {
     "data": {
      "text/plain": [
       "torch.Size([2, 1024, 128])"
      ]
     },
     "execution_count": 7,
     "metadata": {},
     "output_type": "execute_result"
    }
   ],
   "source": [
    "out_proj.shape"
   ]
  },
  {
   "cell_type": "code",
   "execution_count": 8,
   "metadata": {},
   "outputs": [
    {
     "data": {
      "text/plain": [
       "torch.Size([2048, 1, 35])"
      ]
     },
     "execution_count": 8,
     "metadata": {},
     "output_type": "execute_result"
    }
   ],
   "source": [
    "kernel.shape"
   ]
  },
  {
   "cell_type": "markdown",
   "metadata": {},
   "source": [
    "## FFT"
   ]
  },
  {
   "cell_type": "code",
   "execution_count": 24,
   "metadata": {},
   "outputs": [],
   "source": [
    "import torch\n",
    "import torch.nn as nn\n",
    "import torch.nn.functional as F"
   ]
  },
  {
   "cell_type": "code",
   "execution_count": 25,
   "metadata": {},
   "outputs": [],
   "source": [
    "B = 2\n",
    "L = 7\n",
    "D = 4\n",
    "E = 8\n",
    "kernel_size = 8\n",
    "\n",
    "inp = torch.ones(B, E, L)            # [B, E, L]\n",
    "kernel = (0.5 ** torch.arange(kernel_size)).repeat((E, 1))  # [E, kernel_size]\n",
    "kernel = kernel.flip(dims=(-1,))"
   ]
  },
  {
   "cell_type": "code",
   "execution_count": 26,
   "metadata": {},
   "outputs": [],
   "source": [
    "def get_rfft():\n",
    "    fft_dim = L + kernel_size\n",
    "    # get next power of 2\n",
    "    # fft_dim = 2 ** (fft_dim - 1).bit_length()\n",
    "\n",
    "    inp_fft = torch.fft.rfft(inp, dim=-1, n=fft_dim)\n",
    "    kernel_fft = torch.fft.rfft(kernel, dim=-1, n=fft_dim)\n",
    "\n",
    "    # Perform element-wise multiplication in the frequency domain\n",
    "    out_T_fft = inp_fft * kernel_fft\n",
    "    out_T = torch.fft.irfft(out_T_fft, n=fft_dim).type_as(inp)\n",
    "    # pad1 = kernel_size // 2\n",
    "    # pad2 = fft_dim - L - pad1\n",
    "    return out_T\n",
    "\n",
    "def get_conv():\n",
    "    out_T = F.conv1d(inp, kernel.view(E, 1, kernel_size).flip(dims=(2,)), groups=E, padding=kernel_size-1)\n",
    "    return out_T"
   ]
  },
  {
   "cell_type": "code",
   "execution_count": 27,
   "metadata": {},
   "outputs": [
    {
     "data": {
      "text/plain": [
       "tensor([7.8124e-03, 2.3437e-02, 5.4687e-02, 1.1719e-01, 2.4219e-01, 4.9219e-01,\n",
       "        9.9219e-01, 1.9844e+00, 1.9688e+00, 1.9375e+00, 1.8750e+00, 1.7500e+00,\n",
       "        1.5000e+00, 1.0000e+00, 2.3842e-08])"
      ]
     },
     "execution_count": 27,
     "metadata": {},
     "output_type": "execute_result"
    }
   ],
   "source": [
    "get_rfft()[0, 1, :]"
   ]
  },
  {
   "cell_type": "code",
   "execution_count": 28,
   "metadata": {},
   "outputs": [
    {
     "data": {
      "text/plain": [
       "tensor([0.0078, 0.0234, 0.0547, 0.1172, 0.2422, 0.4922, 0.9922, 1.9844, 1.9688,\n",
       "        1.9375, 1.8750, 1.7500, 1.5000, 1.0000])"
      ]
     },
     "execution_count": 28,
     "metadata": {},
     "output_type": "execute_result"
    }
   ],
   "source": [
    "get_conv()[0, 1, :]"
   ]
  },
  {
   "cell_type": "markdown",
   "metadata": {},
   "source": [
    "## Debugging trained models"
   ]
  },
  {
   "cell_type": "code",
   "execution_count": 13,
   "metadata": {},
   "outputs": [],
   "source": [
    "# load torch dict from pytorch_model.bin\n",
    "import torch\n",
    "import numpy as np\n",
    "import os\n",
    "import seaborn as sns\n",
    "\n",
    "torch_dict = torch.load('../out/listops/ema/lightning_logs/version_23/checkpoints/epoch=0-val_accuracy=0.17.ckpt')"
   ]
  },
  {
   "cell_type": "code",
   "execution_count": 14,
   "metadata": {},
   "outputs": [],
   "source": [
    "state_dict = torch_dict[\"state_dict\"]"
   ]
  },
  {
   "cell_type": "code",
   "execution_count": 15,
   "metadata": {},
   "outputs": [
    {
     "data": {
      "text/plain": [
       "odict_keys(['model.embedding.weight', 'model.model.layers.0.layer.logit_alpha', 'model.model.layers.0.layer.logit_delta', 'model.model.layers.0.layer.beta', 'model.model.layers.0.layer.eta', 'model.model.layers.1.sublayers.0.layer.weight', 'model.model.layers.1.sublayers.0.layer.bias', 'model.model.layers.1.sublayers.2.layer.weight', 'model.model.layers.1.sublayers.2.layer.bias', 'model.model.layers.1.sublayers.3.layer.weight', 'model.model.layers.1.sublayers.3.layer.bias', 'model.model.layers.2.layer.logit_alpha', 'model.model.layers.2.layer.logit_delta', 'model.model.layers.2.layer.beta', 'model.model.layers.2.layer.eta', 'model.model.layers.3.sublayers.0.layer.weight', 'model.model.layers.3.sublayers.0.layer.bias', 'model.model.layers.3.sublayers.2.layer.weight', 'model.model.layers.3.sublayers.2.layer.bias', 'model.model.layers.3.sublayers.3.layer.weight', 'model.model.layers.3.sublayers.3.layer.bias', 'model_with_head.model.embedding.weight', 'model_with_head.model.model.layers.0.layer.logit_alpha', 'model_with_head.model.model.layers.0.layer.logit_delta', 'model_with_head.model.model.layers.0.layer.beta', 'model_with_head.model.model.layers.0.layer.eta', 'model_with_head.model.model.layers.1.sublayers.0.layer.weight', 'model_with_head.model.model.layers.1.sublayers.0.layer.bias', 'model_with_head.model.model.layers.1.sublayers.2.layer.weight', 'model_with_head.model.model.layers.1.sublayers.2.layer.bias', 'model_with_head.model.model.layers.1.sublayers.3.layer.weight', 'model_with_head.model.model.layers.1.sublayers.3.layer.bias', 'model_with_head.model.model.layers.2.layer.logit_alpha', 'model_with_head.model.model.layers.2.layer.logit_delta', 'model_with_head.model.model.layers.2.layer.beta', 'model_with_head.model.model.layers.2.layer.eta', 'model_with_head.model.model.layers.3.sublayers.0.layer.weight', 'model_with_head.model.model.layers.3.sublayers.0.layer.bias', 'model_with_head.model.model.layers.3.sublayers.2.layer.weight', 'model_with_head.model.model.layers.3.sublayers.2.layer.bias', 'model_with_head.model.model.layers.3.sublayers.3.layer.weight', 'model_with_head.model.model.layers.3.sublayers.3.layer.bias', 'model_with_head.ff.0.0.weight', 'model_with_head.ff.0.0.bias', 'model_with_head.ff.0.1.weight', 'model_with_head.ff.0.1.bias', 'model_with_head.ff.1.weight', 'model_with_head.ff.1.bias'])"
      ]
     },
     "execution_count": 15,
     "metadata": {},
     "output_type": "execute_result"
    }
   ],
   "source": [
    "state_dict.keys()"
   ]
  },
  {
   "cell_type": "code",
   "execution_count": 24,
   "metadata": {},
   "outputs": [
    {
     "name": "stderr",
     "output_type": "stream",
     "text": [
      "/tmp/ipykernel_633788/2175118309.py:2: UserWarning: \n",
      "\n",
      "`distplot` is a deprecated function and will be removed in seaborn v0.14.0.\n",
      "\n",
      "Please adapt your code to use either `displot` (a figure-level function with\n",
      "similar flexibility) or `histplot` (an axes-level function for histograms).\n",
      "\n",
      "For a guide to updating your code to use the new functions, please see\n",
      "https://gist.github.com/mwaskom/de44147ed2974457ad6372750bbe5751\n",
      "\n",
      "  sns.distplot(torch.sigmoid(state_dict[\"model.model.layers.2.layer.logit_alpha\"]).cpu().numpy())\n"
     ]
    },
    {
     "data": {
      "text/plain": [
       "<Axes: ylabel='Density'>"
      ]
     },
     "execution_count": 24,
     "metadata": {},
     "output_type": "execute_result"
    },
    {
     "data": {
      "image/png": "[encoded data removed]",
      "text/plain": [
       "<Figure size 640x480 with 1 Axes>"
      ]
     },
     "metadata": {},
     "output_type": "display_data"
    }
   ],
   "source": [
    "# plot alpha\n",
    "sns.distplot(torch.sigmoid(state_dict[\"model.model.layers.2.layer.logit_alpha\"]).cpu().numpy())"
   ]
  },
  {
   "cell_type": "code",
   "execution_count": null,
   "metadata": {},
   "outputs": [],
   "source": []
  }
 ],
 "metadata": {
  "kernelspec": {
   "display_name": "Python 3",
   "language": "python",
   "name": "python3"
  },
  "language_info": {
   "codemirror_mode": {
    "name": "ipython",
    "version": 3
   },
   "file_extension": ".py",
   "mimetype": "text/x-python",
   "name": "python",
   "nbconvert_exporter": "python",
   "pygments_lexer": "ipython3",
   "version": "3.11.7"
  }
 },
 "nbformat": 4,
 "nbformat_minor": 2
}
